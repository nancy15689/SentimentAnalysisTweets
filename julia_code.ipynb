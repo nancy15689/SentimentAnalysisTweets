{
 "cells": [
  {
   "cell_type": "code",
   "execution_count": 1,
   "metadata": {},
   "outputs": [],
   "source": [
    "using DataFrames, Plots\n",
    "# load data\n",
    "train = readtable(\"train_input.csv\");\n",
    "test = readtable(\"test_input.csv\");"
   ]
  },
  {
   "cell_type": "markdown",
   "metadata": {},
   "source": [
    "# least squares regression"
   ]
  },
  {
   "cell_type": "code",
   "execution_count": 16,
   "metadata": {},
   "outputs": [
    {
     "data": {
      "text/plain": [
       "4×1 Array{Float64,2}:\n",
       "  0.158394 \n",
       " -0.117322 \n",
       "  0.0313936\n",
       " -0.0308813"
      ]
     },
     "execution_count": 16,
     "metadata": {},
     "output_type": "execute_result"
    }
   ],
   "source": [
    "X = convert(Array, train[1:size(train, 1), 6:(size(train, 2) - 1)]);\n",
    "y = convert(Array, train[1:size(train, 1), end:end]);\n",
    "# least squares regression\n",
    "w = X\\y"
   ]
  },
  {
   "cell_type": "code",
   "execution_count": 17,
   "metadata": {},
   "outputs": [],
   "source": [
    "testX = convert(Array, test[1:size(test, 1), 6:(size(test, 2) - 1)]);\n",
    "testy = convert(Array, test[1:size(test, 1), end:end]);\n",
    "test_pred = sign.(testX*w);"
   ]
  },
  {
   "cell_type": "code",
   "execution_count": 18,
   "metadata": {},
   "outputs": [
    {
     "name": "stdout",
     "output_type": "stream",
     "text": [
      "0.3231197771587744\n",
      "464.0\n"
     ]
    },
    {
     "name": "stderr",
     "output_type": "stream",
     "text": [
      "\u001b[1m\u001b[33mWARNING: \u001b[39m\u001b[22m\u001b[33mabs2{T <: Number}(x::AbstractArray{T}) is deprecated, use abs2.(x) instead.\u001b[39m\n",
      "Stacktrace:\n",
      " [1] \u001b[1mdepwarn\u001b[22m\u001b[22m\u001b[1m(\u001b[22m\u001b[22m::String, ::Symbol\u001b[1m)\u001b[22m\u001b[22m at \u001b[1m./deprecated.jl:70\u001b[22m\u001b[22m\n",
      " [2] \u001b[1mabs2\u001b[22m\u001b[22m\u001b[1m(\u001b[22m\u001b[22m::Array{Float64,2}\u001b[1m)\u001b[22m\u001b[22m at \u001b[1m./deprecated.jl:57\u001b[22m\u001b[22m\n",
      " [3] \u001b[1minclude_string\u001b[22m\u001b[22m\u001b[1m(\u001b[22m\u001b[22m::String, ::String\u001b[1m)\u001b[22m\u001b[22m at \u001b[1m./loading.jl:515\u001b[22m\u001b[22m\n",
      " [4] \u001b[1minclude_string\u001b[22m\u001b[22m\u001b[1m(\u001b[22m\u001b[22m::Module, ::String, ::String\u001b[1m)\u001b[22m\u001b[22m at \u001b[1m/Users/yugu/.julia/v0.6/Compat/src/Compat.jl:478\u001b[22m\u001b[22m\n",
      " [5] \u001b[1mexecute_request\u001b[22m\u001b[22m\u001b[1m(\u001b[22m\u001b[22m::ZMQ.Socket, ::IJulia.Msg\u001b[1m)\u001b[22m\u001b[22m at \u001b[1m/Users/yugu/.julia/v0.6/IJulia/src/execute_request.jl:154\u001b[22m\u001b[22m\n",
      " [6] \u001b[1meventloop\u001b[22m\u001b[22m\u001b[1m(\u001b[22m\u001b[22m::ZMQ.Socket\u001b[1m)\u001b[22m\u001b[22m at \u001b[1m/Users/yugu/.julia/v0.6/IJulia/src/eventloop.jl:8\u001b[22m\u001b[22m\n",
      " [7] \u001b[1m(::IJulia.##14#17)\u001b[22m\u001b[22m\u001b[1m(\u001b[22m\u001b[22m\u001b[1m)\u001b[22m\u001b[22m at \u001b[1m./task.jl:335\u001b[22m\u001b[22m\n",
      "while loading In[18], in expression starting on line 2\n"
     ]
    }
   ],
   "source": [
    "error_rate = sum(abs.(test_pred - testy) / 2.0) / size(testX,1)\n",
    "squared_error = sum(abs2(test_pred - sign.(testy)))\n",
    "println(error_rate)\n",
    "println(squared_error)"
   ]
  },
  {
   "cell_type": "markdown",
   "metadata": {},
   "source": [
    "## ridge regression"
   ]
  },
  {
   "cell_type": "code",
   "execution_count": 19,
   "metadata": {},
   "outputs": [
    {
     "data": {
      "text/plain": [
       "ridge (generic function with 1 method)"
      ]
     },
     "execution_count": 19,
     "metadata": {},
     "output_type": "execute_result"
    }
   ],
   "source": [
    "function ridge(lambda::Number)\n",
    "    part1 = transpose(X)*X\n",
    "    part1 = part1 + (lambda * eye(size(part1,1)))\n",
    "    w_ridge = inv(part1) * transpose(X) * y\n",
    "    pred = X*w_ridge\n",
    "    squared_error = sum(abs2(pred - sign.(y)))\n",
    "    return squared_error\n",
    "end"
   ]
  },
  {
   "cell_type": "code",
   "execution_count": 20,
   "metadata": {},
   "outputs": [
    {
     "name": "stderr",
     "output_type": "stream",
     "text": [
      "\u001b[1m\u001b[33mWARNING: \u001b[39m\u001b[22m\u001b[33mabs2{T <: Number}(x::AbstractArray{T}) is deprecated, use abs2.(x) instead.\u001b[39m\n",
      "Stacktrace:\n",
      " [1] \u001b[1mdepwarn\u001b[22m\u001b[22m\u001b[1m(\u001b[22m\u001b[22m::String, ::Symbol\u001b[1m)\u001b[22m\u001b[22m at \u001b[1m./deprecated.jl:70\u001b[22m\u001b[22m\n",
      " [2] \u001b[1mabs2\u001b[22m\u001b[22m\u001b[1m(\u001b[22m\u001b[22m::Array{Float64,2}\u001b[1m)\u001b[22m\u001b[22m at \u001b[1m./deprecated.jl:57\u001b[22m\u001b[22m\n",
      " [3] \u001b[1mridge\u001b[22m\u001b[22m\u001b[1m(\u001b[22m\u001b[22m::Float64\u001b[1m)\u001b[22m\u001b[22m at \u001b[1m./In[19]:6\u001b[22m\u001b[22m\n",
      " [4] \u001b[1mcollect\u001b[22m\u001b[22m\u001b[1m(\u001b[22m\u001b[22m::Base.Generator{StepRangeLen{Float64,Base.TwicePrecision{Float64},Base.TwicePrecision{Float64}},#ridge}\u001b[1m)\u001b[22m\u001b[22m at \u001b[1m./array.jl:441\u001b[22m\u001b[22m\n",
      " [5] \u001b[1minclude_string\u001b[22m\u001b[22m\u001b[1m(\u001b[22m\u001b[22m::String, ::String\u001b[1m)\u001b[22m\u001b[22m at \u001b[1m./loading.jl:515\u001b[22m\u001b[22m\n",
      " [6] \u001b[1minclude_string\u001b[22m\u001b[22m\u001b[1m(\u001b[22m\u001b[22m::Module, ::String, ::String\u001b[1m)\u001b[22m\u001b[22m at \u001b[1m/Users/yugu/.julia/v0.6/Compat/src/Compat.jl:478\u001b[22m\u001b[22m\n",
      " [7] \u001b[1mexecute_request\u001b[22m\u001b[22m\u001b[1m(\u001b[22m\u001b[22m::ZMQ.Socket, ::IJulia.Msg\u001b[1m)\u001b[22m\u001b[22m at \u001b[1m/Users/yugu/.julia/v0.6/IJulia/src/execute_request.jl:154\u001b[22m\u001b[22m\n",
      " [8] \u001b[1meventloop\u001b[22m\u001b[22m\u001b[1m(\u001b[22m\u001b[22m::ZMQ.Socket\u001b[1m)\u001b[22m\u001b[22m at \u001b[1m/Users/yugu/.julia/v0.6/IJulia/src/eventloop.jl:8\u001b[22m\u001b[22m\n",
      " [9] \u001b[1m(::IJulia.##14#17)\u001b[22m\u001b[22m\u001b[1m(\u001b[22m\u001b[22m\u001b[1m)\u001b[22m\u001b[22m at \u001b[1m./task.jl:335\u001b[22m\u001b[22m\n",
      "while loading In[20], in expression starting on line 2\n",
      "\u001b[1m\u001b[36mINFO: \u001b[39m\u001b[22m\u001b[36mRecompiling stale cache file /Users/yugu/.julia/lib/v0.6/PyPlot.ji for module PyPlot.\n",
      "\u001b[39m"
     ]
    },
    {
     "data": {
      "text/html": [
       "<img src=\"data:image/png;base64,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\" />"
      ]
     },
     "execution_count": 20,
     "metadata": {},
     "output_type": "execute_result"
    }
   ],
   "source": [
    "ls = linspace(0,1,20)\n",
    "losses = [ridge(a) for a in ls]\n",
    "min_val, min_index = findmin(losses)\n",
    "final_lambda = ls[min_index]\n",
    "plot(ls, losses, label=\"x-lambda; y-quadratic loss\")"
   ]
  },
  {
   "cell_type": "code",
   "execution_count": 23,
   "metadata": {},
   "outputs": [
    {
     "name": "stdout",
     "output_type": "stream",
     "text": [
      "0.3231197771587744\n",
      "464.0\n"
     ]
    },
    {
     "name": "stderr",
     "output_type": "stream",
     "text": [
      "\u001b[1m\u001b[33mWARNING: \u001b[39m\u001b[22m\u001b[33mabs2{T <: Number}(x::AbstractArray{T}) is deprecated, use abs2.(x) instead.\u001b[39m\n",
      "Stacktrace:\n",
      " [1] \u001b[1mdepwarn\u001b[22m\u001b[22m\u001b[1m(\u001b[22m\u001b[22m::String, ::Symbol\u001b[1m)\u001b[22m\u001b[22m at \u001b[1m./deprecated.jl:70\u001b[22m\u001b[22m\n",
      " [2] \u001b[1mabs2\u001b[22m\u001b[22m\u001b[1m(\u001b[22m\u001b[22m::Array{Float64,2}\u001b[1m)\u001b[22m\u001b[22m at \u001b[1m./deprecated.jl:57\u001b[22m\u001b[22m\n",
      " [3] \u001b[1minclude_string\u001b[22m\u001b[22m\u001b[1m(\u001b[22m\u001b[22m::String, ::String\u001b[1m)\u001b[22m\u001b[22m at \u001b[1m./loading.jl:515\u001b[22m\u001b[22m\n",
      " [4] \u001b[1minclude_string\u001b[22m\u001b[22m\u001b[1m(\u001b[22m\u001b[22m::Module, ::String, ::String\u001b[1m)\u001b[22m\u001b[22m at \u001b[1m/Users/yugu/.julia/v0.6/Compat/src/Compat.jl:478\u001b[22m\u001b[22m\n",
      " [5] \u001b[1mexecute_request\u001b[22m\u001b[22m\u001b[1m(\u001b[22m\u001b[22m::ZMQ.Socket, ::IJulia.Msg\u001b[1m)\u001b[22m\u001b[22m at \u001b[1m/Users/yugu/.julia/v0.6/IJulia/src/execute_request.jl:154\u001b[22m\u001b[22m\n",
      " [6] \u001b[1meventloop\u001b[22m\u001b[22m\u001b[1m(\u001b[22m\u001b[22m::ZMQ.Socket\u001b[1m)\u001b[22m\u001b[22m at \u001b[1m/Users/yugu/.julia/v0.6/IJulia/src/eventloop.jl:8\u001b[22m\u001b[22m\n",
      " [7] \u001b[1m(::IJulia.##14#17)\u001b[22m\u001b[22m\u001b[1m(\u001b[22m\u001b[22m\u001b[1m)\u001b[22m\u001b[22m at \u001b[1m./task.jl:335\u001b[22m\u001b[22m\n",
      "while loading In[23], in expression starting on line 6\n"
     ]
    }
   ],
   "source": [
    "part1 = transpose(X)*X\n",
    "part1 = part1 + (final_lambda * eye(size(part1,1)))\n",
    "w_ridge = inv(part1) * transpose(X) * y\n",
    "test_pred = sign.(testX*w_ridge)\n",
    "error_rate = sum(abs.(test_pred - sign.(testy)) / 2.0) / size(testX,1)\n",
    "squared_error = sum(abs2(test_pred - sign.(testy)))\n",
    "println(error_rate)\n",
    "println(squared_error)"
   ]
  },
  {
   "cell_type": "markdown",
   "metadata": {},
   "source": [
    "# proximal gradient method for quadratic loss and l1 regularizer"
   ]
  },
  {
   "cell_type": "code",
   "execution_count": 24,
   "metadata": {},
   "outputs": [
    {
     "data": {
      "text/plain": [
       "prox_l1 (generic function with 4 methods)"
      ]
     },
     "execution_count": 24,
     "metadata": {},
     "output_type": "execute_result"
    }
   ],
   "source": [
    "function prox_l1(x::Number, alpha=1)\n",
    "    if x > alpha\n",
    "        return x-alpha\n",
    "    elseif x < -alpha\n",
    "        return x + alpha\n",
    "    else\n",
    "        return 0\n",
    "    end\n",
    "end\n",
    "function prox_l1(x::AbstractArray, alpha=1)\n",
    "    return reshape(Float64[prox_l1(xi, alpha) for xi in x], size(x))\n",
    "end"
   ]
  },
  {
   "cell_type": "code",
   "execution_count": 25,
   "metadata": {},
   "outputs": [
    {
     "data": {
      "text/plain": [
       "proxgrad_quad_l1 (generic function with 1 method)"
      ]
     },
     "execution_count": 25,
     "metadata": {},
     "output_type": "execute_result"
    }
   ],
   "source": [
    "# proximal gradient method for quadratic loss and l1 regularizer\n",
    "function proxgrad_quad_l1(X, y; maxiters = 10, stepsize = 1, λ = 1, w = zeros(size(X,2)))\n",
    "    objval = Float64[]\n",
    "    for i=1:maxiters\n",
    "        # gradient step\n",
    "        g = 2X'*(X*w-y) # compute quadratic gradient\n",
    "        z = w - stepsize*g\n",
    "        # prox step\n",
    "        w = prox_l1(z, stepsize*λ)\n",
    "        # record objective value\n",
    "        push!(objval, norm(X*w-y)^2 + norm(w,1))\n",
    "    end\n",
    "    return w, objval\n",
    "end"
   ]
  },
  {
   "cell_type": "code",
   "execution_count": 27,
   "metadata": {},
   "outputs": [
    {
     "name": "stdout",
     "output_type": "stream",
     "text": [
      "0.5069637883008357\n",
      "728.0\n"
     ]
    },
    {
     "name": "stderr",
     "output_type": "stream",
     "text": [
      "\u001b[1m\u001b[33mWARNING: \u001b[39m\u001b[22m\u001b[33mabs2{T <: Number}(x::AbstractArray{T}) is deprecated, use abs2.(x) instead.\u001b[39m\n",
      "Stacktrace:\n",
      " [1] \u001b[1mdepwarn\u001b[22m\u001b[22m\u001b[1m(\u001b[22m\u001b[22m::String, ::Symbol\u001b[1m)\u001b[22m\u001b[22m at \u001b[1m./deprecated.jl:70\u001b[22m\u001b[22m\n",
      " [2] \u001b[1mabs2\u001b[22m\u001b[22m\u001b[1m(\u001b[22m\u001b[22m::Array{Float64,2}\u001b[1m)\u001b[22m\u001b[22m at \u001b[1m./deprecated.jl:57\u001b[22m\u001b[22m\n",
      " [3] \u001b[1minclude_string\u001b[22m\u001b[22m\u001b[1m(\u001b[22m\u001b[22m::String, ::String\u001b[1m)\u001b[22m\u001b[22m at \u001b[1m./loading.jl:515\u001b[22m\u001b[22m\n",
      " [4] \u001b[1minclude_string\u001b[22m\u001b[22m\u001b[1m(\u001b[22m\u001b[22m::Module, ::String, ::String\u001b[1m)\u001b[22m\u001b[22m at \u001b[1m/Users/yugu/.julia/v0.6/Compat/src/Compat.jl:478\u001b[22m\u001b[22m\n",
      " [5] \u001b[1mexecute_request\u001b[22m\u001b[22m\u001b[1m(\u001b[22m\u001b[22m::ZMQ.Socket, ::IJulia.Msg\u001b[1m)\u001b[22m\u001b[22m at \u001b[1m/Users/yugu/.julia/v0.6/IJulia/src/execute_request.jl:154\u001b[22m\u001b[22m\n",
      " [6] \u001b[1meventloop\u001b[22m\u001b[22m\u001b[1m(\u001b[22m\u001b[22m::ZMQ.Socket\u001b[1m)\u001b[22m\u001b[22m at \u001b[1m/Users/yugu/.julia/v0.6/IJulia/src/eventloop.jl:8\u001b[22m\u001b[22m\n",
      " [7] \u001b[1m(::IJulia.##14#17)\u001b[22m\u001b[22m\u001b[1m(\u001b[22m\u001b[22m\u001b[1m)\u001b[22m\u001b[22m at \u001b[1m./task.jl:335\u001b[22m\u001b[22m\n",
      "while loading In[27], in expression starting on line 4\n"
     ]
    }
   ],
   "source": [
    "w_prox, obj = proxgrad_quad_l1(X, y; maxiters = 50, stepsize = .1)\n",
    "test_pred = sign.(testX*w_prox)\n",
    "error_rate = sum(abs.(test_pred - sign.(testy)) / 2.0) / size(testX,1)\n",
    "squared_error = sum(abs2(test_pred - sign.(testy)))\n",
    "println(error_rate)\n",
    "println(squared_error)"
   ]
  }
 ],
 "metadata": {
  "kernelspec": {
   "display_name": "Julia 0.6.0",
   "language": "julia",
   "name": "julia-0.6"
  },
  "language_info": {
   "file_extension": ".jl",
   "mimetype": "application/julia",
   "name": "julia",
   "version": "0.6.0"
  }
 },
 "nbformat": 4,
 "nbformat_minor": 2
}
