{
 "cells": [
  {
   "cell_type": "code",
   "execution_count": null,
   "metadata": {
    "collapsed": true
   },
   "outputs": [],
   "source": [
    "using DataFrames, Plots\n",
    "# load data\n",
    "train = readtable(\"project_train.csv\")\n",
    "test = readtable(\"project_test.csv\")"
   ]
  },
  {
   "cell_type": "markdown",
   "metadata": {},
   "source": [
    "# least squares regression"
   ]
  },
  {
   "cell_type": "code",
   "execution_count": null,
   "metadata": {
    "collapsed": true
   },
   "outputs": [],
   "source": [
    "X = convert(Array, train[:month, :day, :hour, :minute, :second, :pos, :neg])\n",
    "y = convert(Array, train[:y])\n",
    "# least squares regression\n",
    "w = X\\y\n",
    "testX = convert(Array, test[:month, :day, :hour, :minute, :second, :pos, :neg])\n",
    "testy = convert(Array, test[:y])\n",
    "test_pred = sign.(X*w)\n",
    "error_rate = sum(abs.(test_pred - sign.(testy)) / 2.0) / size(testX,1)\n",
    "squared_error = sum(abs2(test_pred - sign.(testy)))"
   ]
  },
  {
   "cell_type": "markdown",
   "metadata": {},
   "source": [
    "## ridge regression"
   ]
  },
  {
   "cell_type": "code",
   "execution_count": null,
   "metadata": {
    "collapsed": true
   },
   "outputs": [],
   "source": [
    "function ridge(lambda::Number)\n",
    "    part1 = transpose(X)*X\n",
    "    part1 = part1 + (lambda * eye(size(part1,1)))\n",
    "    w_ridge = inv(part1) * transpose(X) * y\n",
    "    pred = X*w_ridge\n",
    "    squared_error = sum(abs2(pred - sign.(y)))\n",
    "    return squared_error\n",
    "end"
   ]
  },
  {
   "cell_type": "code",
   "execution_count": 3,
   "metadata": {},
   "outputs": [
    {
     "data": {
      "text/plain": [
       "2×2 Array{Float64,2}:\n",
       " 0.3  0.0\n",
       " 0.0  0.3"
      ]
     },
     "execution_count": 3,
     "metadata": {},
     "output_type": "execute_result"
    }
   ],
   "source": [
    "ls = linspace(0,1,20)\n",
    "losses = [ridge(a) for a in ls]\n",
    "min_val, min_index = findmin(losses)\n",
    "final_lambda = ls[min_index]\n",
    "plot(ls, losses, label=\"x-lambda; y-quadratic loss\")"
   ]
  },
  {
   "cell_type": "code",
   "execution_count": null,
   "metadata": {
    "collapsed": true
   },
   "outputs": [],
   "source": [
    "part1 = transpose(X)*X\n",
    "part1 = part1 + (final_lambda * eye(size(part1,1)))\n",
    "w_ridge = inv(part1) * transpose(X) * y\n",
    "test_pred = sign.(X*w_ridge)\n",
    "error_rate = sum(abs.(test_pred - sign.(testy)) / 2.0) / size(testX,1)\n",
    "squared_error = sum(abs2(test_pred - sign.(testy)))"
   ]
  },
  {
   "cell_type": "markdown",
   "metadata": {},
   "source": [
    "# proximal gradient method for quadratic loss and l1 regularizer"
   ]
  },
  {
   "cell_type": "code",
   "execution_count": null,
   "metadata": {
    "collapsed": true
   },
   "outputs": [],
   "source": [
    "function prox_l1(x::Number, alpha=1)\n",
    "    if x > alpha\n",
    "        return x-alpha\n",
    "    elseif x < -alpha\n",
    "        return x + alpha\n",
    "    else\n",
    "        return 0\n",
    "    end\n",
    "end\n",
    "function prox_l1(x::AbstractArray, alpha=1)\n",
    "    return reshape(Float64[prox_l1(xi, alpha) for xi in x], size(x))\n",
    "end"
   ]
  },
  {
   "cell_type": "code",
   "execution_count": null,
   "metadata": {
    "collapsed": true
   },
   "outputs": [],
   "source": [
    "# proximal gradient method for quadratic loss and l1 regularizer\n",
    "function proxgrad_quad_l1(X, y; maxiters = 10, stepsize = 1, λ = 1, w = zeros(size(X,2)))\n",
    "    objval = Float64[]\n",
    "    for i=1:maxiters\n",
    "        # gradient step\n",
    "        g = 2X'*(X*w-y) # compute quadratic gradient\n",
    "        z = w - stepsize*g\n",
    "        # prox step\n",
    "        w = prox_l1(z, stepsize*λ)\n",
    "        # record objective value\n",
    "        push!(objval, norm(X*w-y)^2 + norm(w,1))\n",
    "    end\n",
    "    return w, objval\n",
    "end"
   ]
  },
  {
   "cell_type": "code",
   "execution_count": null,
   "metadata": {
    "collapsed": true
   },
   "outputs": [],
   "source": [
    "w_prox, obj = proxgrad_quad_l1(X, y; maxiters = 50, stepsize = .1)\n",
    "test_pred = sign.(X*w_prox)\n",
    "error_rate = sum(abs.(test_pred - sign.(testy)) / 2.0) / size(testX,1)\n",
    "squared_error = sum(abs2(test_pred - sign.(testy)))"
   ]
  }
 ],
 "metadata": {
  "kernelspec": {
   "display_name": "Julia 0.6.1",
   "language": "julia",
   "name": "julia-0.6"
  },
  "language_info": {
   "file_extension": ".jl",
   "mimetype": "application/julia",
   "name": "julia",
   "version": "0.6.1"
  }
 },
 "nbformat": 4,
 "nbformat_minor": 2
}
