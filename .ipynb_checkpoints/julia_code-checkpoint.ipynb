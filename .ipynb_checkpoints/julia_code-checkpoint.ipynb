{
 "cells": [
  {
   "cell_type": "code",
   "execution_count": 1,
   "metadata": {},
   "outputs": [
    {
     "data": {
      "text/html": [
       "<table class=\"data-frame\"><thead><tr><th></th><th>x5</th><th>x11</th><th>x3</th><th>x17</th><th>x40</th><th>x0_604471578502</th><th>x0_604471578502_1</th><th>_52_2019118474</th><th>_52_1268155961</th><th>x1</th></tr></thead><tbody><tr><th>1</th><td>5</td><td>11</td><td>3</td><td>18</td><td>3</td><td>0.604471578502</td><td>0.604471578502</td><td>-74.1114384584</td><td>-73.7901513365</td><td>1</td></tr><tr><th>2</th><td>5</td><td>11</td><td>3</td><td>18</td><td>54</td><td>1.0</td><td>0.604471578502</td><td>-5.0578573179</td><td>-4.78042882044</td><td>1</td></tr><tr><th>3</th><td>5</td><td>11</td><td>3</td><td>19</td><td>4</td><td>0.604471578502</td><td>0.604471578502</td><td>-205.130217865</td><td>-218.010043091</td><td>1</td></tr><tr><th>4</th><td>5</td><td>11</td><td>3</td><td>21</td><td>41</td><td>0.604471578502</td><td>0.604471578502</td><td>-84.3190958182</td><td>-86.4478718775</td><td>1</td></tr><tr><th>5</th><td>5</td><td>11</td><td>3</td><td>22</td><td>0</td><td>0.604471578502</td><td>0.604471578502</td><td>-92.4574181498</td><td>-91.7249941926</td><td>1</td></tr><tr><th>6</th><td>5</td><td>11</td><td>3</td><td>22</td><td>30</td><td>0.604471578502</td><td>0.604471578502</td><td>-114.412992141</td><td>-112.081191973</td><td>-1</td></tr><tr><th>7</th><td>5</td><td>11</td><td>3</td><td>26</td><td>10</td><td>0.604471578502</td><td>0.604471578502</td><td>-42.4095078976</td><td>-42.6191622606</td><td>1</td></tr><tr><th>8</th><td>5</td><td>11</td><td>3</td><td>27</td><td>15</td><td>0.604471578502</td><td>0.604471578502</td><td>-4.92275927416</td><td>-5.23889688548</td><td>1</td></tr><tr><th>9</th><td>5</td><td>11</td><td>3</td><td>29</td><td>20</td><td>0.604471578502</td><td>0.604471578502</td><td>-111.162086314</td><td>-107.236316286</td><td>1</td></tr><tr><th>10</th><td>5</td><td>11</td><td>3</td><td>32</td><td>48</td><td>0.604471578502</td><td>0.604471578502</td><td>-123.624582413</td><td>-115.110016936</td><td>-1</td></tr><tr><th>11</th><td>5</td><td>11</td><td>3</td><td>33</td><td>38</td><td>0.604471578502</td><td>0.604471578502</td><td>-41.5271987621</td><td>-42.4284138863</td><td>1</td></tr><tr><th>12</th><td>5</td><td>11</td><td>5</td><td>5</td><td>58</td><td>0.604471578502</td><td>0.604471578502</td><td>-129.922066448</td><td>-131.777795229</td><td>1</td></tr><tr><th>13</th><td>5</td><td>11</td><td>5</td><td>6</td><td>22</td><td>0.604471578502</td><td>0.604471578502</td><td>-16.2211139481</td><td>-15.6111557857</td><td>-1</td></tr><tr><th>14</th><td>5</td><td>11</td><td>5</td><td>20</td><td>15</td><td>0.604471578502</td><td>0.604471578502</td><td>-44.6682373675</td><td>-46.1484008892</td><td>1</td></tr><tr><th>15</th><td>5</td><td>11</td><td>5</td><td>20</td><td>28</td><td>0.604471578502</td><td>0.604471578502</td><td>-229.618249282</td><td>-225.59073983</td><td>-1</td></tr><tr><th>16</th><td>5</td><td>11</td><td>5</td><td>21</td><td>4</td><td>0.604471578502</td><td>0.604471578502</td><td>-42.7822896092</td><td>-43.4768942253</td><td>1</td></tr><tr><th>17</th><td>5</td><td>11</td><td>5</td><td>21</td><td>37</td><td>0.604471578502</td><td>0.604471578502</td><td>-19.6302002019</td><td>-20.2904945324</td><td>-1</td></tr><tr><th>18</th><td>5</td><td>11</td><td>5</td><td>21</td><td>45</td><td>0.604471578502</td><td>0.604471578502</td><td>-28.8897480185</td><td>-28.2587900149</td><td>1</td></tr><tr><th>19</th><td>5</td><td>11</td><td>5</td><td>22</td><td>3</td><td>0.604471578502</td><td>0.604471578502</td><td>-49.6543639824</td><td>-49.4908363166</td><td>1</td></tr><tr><th>20</th><td>5</td><td>11</td><td>5</td><td>22</td><td>12</td><td>0.604471578502</td><td>0.604471578502</td><td>-42.8863212447</td><td>-47.5356139743</td><td>1</td></tr><tr><th>21</th><td>5</td><td>11</td><td>5</td><td>22</td><td>37</td><td>0.604471578502</td><td>0.604471578502</td><td>-99.8721616067</td><td>-100.1905007</td><td>1</td></tr><tr><th>22</th><td>5</td><td>11</td><td>6</td><td>2</td><td>24</td><td>0.604471578502</td><td>0.604471578502</td><td>-159.827313267</td><td>-159.187868502</td><td>1</td></tr><tr><th>23</th><td>5</td><td>11</td><td>19</td><td>47</td><td>29</td><td>0.604471578502</td><td>0.604471578502</td><td>-12.2469870212</td><td>-14.2638035222</td><td>1</td></tr><tr><th>24</th><td>5</td><td>11</td><td>19</td><td>49</td><td>21</td><td>0.604471578502</td><td>0.604471578502</td><td>-84.1128400354</td><td>-66.9165080657</td><td>1</td></tr><tr><th>25</th><td>5</td><td>11</td><td>19</td><td>50</td><td>7</td><td>0.604471578502</td><td>0.604471578502</td><td>-88.7391388428</td><td>-89.7506967713</td><td>1</td></tr><tr><th>26</th><td>5</td><td>14</td><td>2</td><td>58</td><td>7</td><td>0.604471578502</td><td>0.604471578502</td><td>-101.738673516</td><td>-107.449439</td><td>1</td></tr><tr><th>27</th><td>5</td><td>14</td><td>2</td><td>58</td><td>23</td><td>0.604471578502</td><td>0.604471578502</td><td>-54.3317327677</td><td>-56.5154696588</td><td>1</td></tr><tr><th>28</th><td>5</td><td>14</td><td>5</td><td>24</td><td>50</td><td>0.604471578502</td><td>0.604471578502</td><td>-56.8905083635</td><td>-59.0134062613</td><td>1</td></tr><tr><th>29</th><td>5</td><td>16</td><td>16</td><td>19</td><td>4</td><td>0.604471578502</td><td>0.604471578502</td><td>-131.269107984</td><td>-135.279824812</td><td>1</td></tr><tr><th>30</th><td>5</td><td>16</td><td>16</td><td>19</td><td>24</td><td>0.604471578502</td><td>0.604471578502</td><td>-205.421271219</td><td>-204.74894314</td><td>-1</td></tr><tr><th>&vellip;</th><td>&vellip;</td><td>&vellip;</td><td>&vellip;</td><td>&vellip;</td><td>&vellip;</td><td>&vellip;</td><td>&vellip;</td><td>&vellip;</td><td>&vellip;</td><td>&vellip;</td></tr></tbody></table>"
      ],
      "text/plain": [
       "358×10 DataFrames.DataFrame\n",
       "│ Row │ x5 │ x11 │ x3 │ x17 │ x40 │ x0_604471578502 │ x0_604471578502_1 │\n",
       "├─────┼────┼─────┼────┼─────┼─────┼─────────────────┼───────────────────┤\n",
       "│ 1   │ 5  │ 11  │ 3  │ 18  │ 3   │ 0.604472        │ 0.604472          │\n",
       "│ 2   │ 5  │ 11  │ 3  │ 18  │ 54  │ 1.0             │ 0.604472          │\n",
       "│ 3   │ 5  │ 11  │ 3  │ 19  │ 4   │ 0.604472        │ 0.604472          │\n",
       "│ 4   │ 5  │ 11  │ 3  │ 21  │ 41  │ 0.604472        │ 0.604472          │\n",
       "│ 5   │ 5  │ 11  │ 3  │ 22  │ 0   │ 0.604472        │ 0.604472          │\n",
       "│ 6   │ 5  │ 11  │ 3  │ 22  │ 30  │ 0.604472        │ 0.604472          │\n",
       "│ 7   │ 5  │ 11  │ 3  │ 26  │ 10  │ 0.604472        │ 0.604472          │\n",
       "│ 8   │ 5  │ 11  │ 3  │ 27  │ 15  │ 0.604472        │ 0.604472          │\n",
       "│ 9   │ 5  │ 11  │ 3  │ 29  │ 20  │ 0.604472        │ 0.604472          │\n",
       "│ 10  │ 5  │ 11  │ 3  │ 32  │ 48  │ 0.604472        │ 0.604472          │\n",
       "│ 11  │ 5  │ 11  │ 3  │ 33  │ 38  │ 0.604472        │ 0.604472          │\n",
       "⋮\n",
       "│ 347 │ 6  │ 14  │ 4  │ 36  │ 7   │ 0.604472        │ 0.604472          │\n",
       "│ 348 │ 6  │ 14  │ 21 │ 36  │ 4   │ 0.604472        │ 0.604472          │\n",
       "│ 349 │ 6  │ 14  │ 21 │ 36  │ 9   │ 0.604472        │ 0.604472          │\n",
       "│ 350 │ 6  │ 13  │ 16 │ 23  │ 41  │ 0.604472        │ 0.604472          │\n",
       "│ 351 │ 6  │ 13  │ 16 │ 24  │ 15  │ 0.604472        │ 0.604472          │\n",
       "│ 352 │ 6  │ 14  │ 4  │ 31  │ 12  │ 0.604472        │ 0.604472          │\n",
       "│ 353 │ 6  │ 14  │ 4  │ 31  │ 23  │ 0.604472        │ 0.604472          │\n",
       "│ 354 │ 6  │ 14  │ 4  │ 31  │ 28  │ 0.604472        │ 0.604472          │\n",
       "│ 355 │ 6  │ 14  │ 4  │ 32  │ 17  │ 0.604472        │ 0.604472          │\n",
       "│ 356 │ 6  │ 14  │ 4  │ 36  │ 34  │ 0.604472        │ 0.604472          │\n",
       "│ 357 │ 6  │ 14  │ 21 │ 36  │ 7   │ 0.604472        │ 0.604472          │\n",
       "│ 358 │ 6  │ 14  │ 21 │ 36  │ 17  │ 0.604472        │ 1.0               │\n",
       "\n",
       "│ Row │ _52_2019118474 │ _52_1268155961 │ x1 │\n",
       "├─────┼────────────────┼────────────────┼────┤\n",
       "│ 1   │ -74.1114       │ -73.7902       │ 1  │\n",
       "│ 2   │ -5.05786       │ -4.78043       │ 1  │\n",
       "│ 3   │ -205.13        │ -218.01        │ 1  │\n",
       "│ 4   │ -84.3191       │ -86.4479       │ 1  │\n",
       "│ 5   │ -92.4574       │ -91.725        │ 1  │\n",
       "│ 6   │ -114.413       │ -112.081       │ -1 │\n",
       "│ 7   │ -42.4095       │ -42.6192       │ 1  │\n",
       "│ 8   │ -4.92276       │ -5.2389        │ 1  │\n",
       "│ 9   │ -111.162       │ -107.236       │ 1  │\n",
       "│ 10  │ -123.625       │ -115.11        │ -1 │\n",
       "│ 11  │ -41.5272       │ -42.4284       │ 1  │\n",
       "⋮\n",
       "│ 347 │ -57.9044       │ -56.1726       │ -1 │\n",
       "│ 348 │ -77.301        │ -77.1948       │ -1 │\n",
       "│ 349 │ -183.492       │ -187.695       │ -1 │\n",
       "│ 350 │ -150.504       │ -154.424       │ 1  │\n",
       "│ 351 │ -181.049       │ -187.864       │ 1  │\n",
       "│ 352 │ -136.414       │ -136.141       │ -1 │\n",
       "│ 353 │ -164.129       │ -168.678       │ 1  │\n",
       "│ 354 │ -30.7973       │ -30.883        │ 1  │\n",
       "│ 355 │ -12.7607       │ -12.7167       │ -1 │\n",
       "│ 356 │ -101.72        │ -102.003       │ 1  │\n",
       "│ 357 │ -12.316        │ -12.3061       │ -1 │\n",
       "│ 358 │ -120.855       │ -124.803       │ -1 │"
      ]
     },
     "execution_count": 1,
     "metadata": {},
     "output_type": "execute_result"
    }
   ],
   "source": [
    "using DataFrames, Plots\n",
    "# load data\n",
    "train = readtable(\"train_input.csv\")\n",
    "test = readtable(\"test_input.csv\")"
   ]
  },
  {
   "cell_type": "markdown",
   "metadata": {},
   "source": [
    "# least squares regression"
   ]
  },
  {
   "cell_type": "code",
   "execution_count": null,
   "metadata": {
    "collapsed": true
   },
   "outputs": [],
   "source": [
    "X = convert(Array, train[:month, :day, :hour, :minute, :second, :pos_post, :neg_post, :pos, :neg])\n",
    "y = convert(Array, train[:y])\n",
    "# least squares regression\n",
    "w = X\\y\n",
    "testX = convert(Array, test[:month, :day, :hour, :minute, :second, :pos, :neg])\n",
    "testy = convert(Array, test[:y])\n",
    "test_pred = sign.(X*w)\n",
    "error_rate = sum(abs.(test_pred - sign.(testy)) / 2.0) / size(testX,1)\n",
    "squared_error = sum(abs2(test_pred - sign.(testy)))"
   ]
  },
  {
   "cell_type": "markdown",
   "metadata": {},
   "source": [
    "## ridge regression"
   ]
  },
  {
   "cell_type": "code",
   "execution_count": null,
   "metadata": {
    "collapsed": true
   },
   "outputs": [],
   "source": [
    "function ridge(lambda::Number)\n",
    "    part1 = transpose(X)*X\n",
    "    part1 = part1 + (lambda * eye(size(part1,1)))\n",
    "    w_ridge = inv(part1) * transpose(X) * y\n",
    "    pred = X*w_ridge\n",
    "    squared_error = sum(abs2(pred - sign.(y)))\n",
    "    return squared_error\n",
    "end"
   ]
  },
  {
   "cell_type": "code",
   "execution_count": 3,
   "metadata": {},
   "outputs": [
    {
     "data": {
      "text/plain": [
       "2×2 Array{Float64,2}:\n",
       " 0.3  0.0\n",
       " 0.0  0.3"
      ]
     },
     "execution_count": 3,
     "metadata": {},
     "output_type": "execute_result"
    }
   ],
   "source": [
    "ls = linspace(0,1,20)\n",
    "losses = [ridge(a) for a in ls]\n",
    "min_val, min_index = findmin(losses)\n",
    "final_lambda = ls[min_index]\n",
    "plot(ls, losses, label=\"x-lambda; y-quadratic loss\")"
   ]
  },
  {
   "cell_type": "code",
   "execution_count": null,
   "metadata": {
    "collapsed": true
   },
   "outputs": [],
   "source": [
    "part1 = transpose(X)*X\n",
    "part1 = part1 + (final_lambda * eye(size(part1,1)))\n",
    "w_ridge = inv(part1) * transpose(X) * y\n",
    "test_pred = sign.(X*w_ridge)\n",
    "error_rate = sum(abs.(test_pred - sign.(testy)) / 2.0) / size(testX,1)\n",
    "squared_error = sum(abs2(test_pred - sign.(testy)))"
   ]
  },
  {
   "cell_type": "markdown",
   "metadata": {},
   "source": [
    "# proximal gradient method for quadratic loss and l1 regularizer"
   ]
  },
  {
   "cell_type": "code",
   "execution_count": null,
   "metadata": {
    "collapsed": true
   },
   "outputs": [],
   "source": [
    "function prox_l1(x::Number, alpha=1)\n",
    "    if x > alpha\n",
    "        return x-alpha\n",
    "    elseif x < -alpha\n",
    "        return x + alpha\n",
    "    else\n",
    "        return 0\n",
    "    end\n",
    "end\n",
    "function prox_l1(x::AbstractArray, alpha=1)\n",
    "    return reshape(Float64[prox_l1(xi, alpha) for xi in x], size(x))\n",
    "end"
   ]
  },
  {
   "cell_type": "code",
   "execution_count": null,
   "metadata": {
    "collapsed": true
   },
   "outputs": [],
   "source": [
    "# proximal gradient method for quadratic loss and l1 regularizer\n",
    "function proxgrad_quad_l1(X, y; maxiters = 10, stepsize = 1, λ = 1, w = zeros(size(X,2)))\n",
    "    objval = Float64[]\n",
    "    for i=1:maxiters\n",
    "        # gradient step\n",
    "        g = 2X'*(X*w-y) # compute quadratic gradient\n",
    "        z = w - stepsize*g\n",
    "        # prox step\n",
    "        w = prox_l1(z, stepsize*λ)\n",
    "        # record objective value\n",
    "        push!(objval, norm(X*w-y)^2 + norm(w,1))\n",
    "    end\n",
    "    return w, objval\n",
    "end"
   ]
  },
  {
   "cell_type": "code",
   "execution_count": null,
   "metadata": {
    "collapsed": true
   },
   "outputs": [],
   "source": [
    "w_prox, obj = proxgrad_quad_l1(X, y; maxiters = 50, stepsize = .1)\n",
    "test_pred = sign.(X*w_prox)\n",
    "error_rate = sum(abs.(test_pred - sign.(testy)) / 2.0) / size(testX,1)\n",
    "squared_error = sum(abs2(test_pred - sign.(testy)))"
   ]
  }
 ],
 "metadata": {
  "kernelspec": {
   "display_name": "Julia 0.6.0",
   "language": "julia",
   "name": "julia-0.6"
  },
  "language_info": {
   "file_extension": ".jl",
   "mimetype": "application/julia",
   "name": "julia",
   "version": "0.6.0"
  }
 },
 "nbformat": 4,
 "nbformat_minor": 2
}
